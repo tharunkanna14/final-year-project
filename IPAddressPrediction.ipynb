{
 "cells": [
  {
   "cell_type": "code",
   "execution_count": 2,
   "metadata": {},
   "outputs": [],
   "source": [
    "import pandas as pd "
   ]
  },
  {
   "cell_type": "code",
   "execution_count": 3,
   "metadata": {},
   "outputs": [],
   "source": [
    "import numpy as np"
   ]
  },
  {
   "cell_type": "code",
   "execution_count": 4,
   "metadata": {},
   "outputs": [],
   "source": [
    "import matplotlib.pyplot as plt"
   ]
  },
  {
   "cell_type": "code",
   "execution_count": 5,
   "metadata": {},
   "outputs": [],
   "source": [
    "import gc"
   ]
  },
  {
   "cell_type": "code",
   "execution_count": 6,
   "metadata": {
    "_cell_guid": "79c7e3d0-c299-4dcb-8224-4455121ee9b0",
    "_uuid": "d629ff2d2480ee46fbb7e2d37f6b5fab8052498a"
   },
   "outputs": [],
   "source": [
    "df = pd.read_csv(\n",
    "    'Dataset.csv',\n",
    "    header = 0, \n",
    "    names= ['ts', 'src', 'dst', 'port', 'bytes']\n",
    ")\n"
   ]
  },
  {
   "cell_type": "code",
   "execution_count": 7,
   "metadata": {},
   "outputs": [
    {
     "name": "stdout",
     "output_type": "stream",
     "text": [
      "<class 'pandas.core.frame.DataFrame'>\n",
      "RangeIndex: 924924 entries, 0 to 924923\n",
      "Data columns (total 5 columns):\n",
      "ts       924924 non-null float64\n",
      "src      924924 non-null object\n",
      "dst      924924 non-null object\n",
      "port     924924 non-null int64\n",
      "bytes    924924 non-null int64\n",
      "dtypes: float64(1), int64(2), object(2)\n",
      "memory usage: 35.3+ MB\n"
     ]
    }
   ],
   "source": [
    "df.info()"
   ]
  },
  {
   "cell_type": "code",
   "execution_count": 8,
   "metadata": {},
   "outputs": [],
   "source": [
    "def is_internal(s):\n",
    "    return s.str.startswith(('12.', '13.', '14.'))"
   ]
  },
  {
   "cell_type": "code",
   "execution_count": 9,
   "metadata": {},
   "outputs": [],
   "source": [
    "df['src_int'] = is_internal(df['src'])"
   ]
  },
  {
   "cell_type": "code",
   "execution_count": 10,
   "metadata": {},
   "outputs": [],
   "source": [
    "df['dst_int'] = is_internal(df['dst'])"
   ]
  },
  {
   "cell_type": "code",
   "execution_count": 11,
   "metadata": {},
   "outputs": [],
   "source": [
    "df['ts']      = pd.to_datetime(df.ts, unit='ms')"
   ]
  },
  {
   "cell_type": "code",
   "execution_count": 12,
   "metadata": {},
   "outputs": [],
   "source": [
    "df['hour']    = df.ts.dt.hour.astype('uint8')"
   ]
  },
  {
   "cell_type": "code",
   "execution_count": 13,
   "metadata": {},
   "outputs": [],
   "source": [
    "df['minute']  = df.ts.dt.minute.astype('uint8')"
   ]
  },
  {
   "cell_type": "code",
   "execution_count": 14,
   "metadata": {},
   "outputs": [],
   "source": [
    "df['port']    = df['port'].astype('uint8')"
   ]
  },
  {
   "cell_type": "code",
   "execution_count": 15,
   "metadata": {},
   "outputs": [
    {
     "data": {
      "text/html": [
       "<div>\n",
       "<style scoped>\n",
       "    .dataframe tbody tr th:only-of-type {\n",
       "        vertical-align: middle;\n",
       "    }\n",
       "\n",
       "    .dataframe tbody tr th {\n",
       "        vertical-align: top;\n",
       "    }\n",
       "\n",
       "    .dataframe thead th {\n",
       "        text-align: right;\n",
       "    }\n",
       "</style>\n",
       "<table border=\"1\" class=\"dataframe\">\n",
       "  <thead>\n",
       "    <tr style=\"text-align: right;\">\n",
       "      <th></th>\n",
       "      <th>ts</th>\n",
       "      <th>src</th>\n",
       "      <th>dst</th>\n",
       "      <th>port</th>\n",
       "      <th>bytes</th>\n",
       "      <th>src_int</th>\n",
       "      <th>dst_int</th>\n",
       "      <th>hour</th>\n",
       "      <th>minute</th>\n",
       "    </tr>\n",
       "  </thead>\n",
       "  <tbody>\n",
       "    <tr>\n",
       "      <td>0</td>\n",
       "      <td>2020-01-06 17:00:00</td>\n",
       "      <td>16.79.101.100</td>\n",
       "      <td>12.48.65.39</td>\n",
       "      <td>92</td>\n",
       "      <td>11895</td>\n",
       "      <td>False</td>\n",
       "      <td>True</td>\n",
       "      <td>17</td>\n",
       "      <td>0</td>\n",
       "    </tr>\n",
       "    <tr>\n",
       "      <td>1</td>\n",
       "      <td>2020-01-06 17:00:00</td>\n",
       "      <td>18.80.91.46</td>\n",
       "      <td>14.30.29.98</td>\n",
       "      <td>114</td>\n",
       "      <td>42801</td>\n",
       "      <td>False</td>\n",
       "      <td>True</td>\n",
       "      <td>17</td>\n",
       "      <td>0</td>\n",
       "    </tr>\n",
       "    <tr>\n",
       "      <td>2</td>\n",
       "      <td>2020-01-06 17:00:00</td>\n",
       "      <td>12.56.32.72</td>\n",
       "      <td>19.96.123.77</td>\n",
       "      <td>27</td>\n",
       "      <td>1169</td>\n",
       "      <td>True</td>\n",
       "      <td>False</td>\n",
       "      <td>17</td>\n",
       "      <td>0</td>\n",
       "    </tr>\n",
       "    <tr>\n",
       "      <td>3</td>\n",
       "      <td>2020-01-06 17:00:00</td>\n",
       "      <td>13.32.102.63</td>\n",
       "      <td>14.39.124.47</td>\n",
       "      <td>105</td>\n",
       "      <td>19866</td>\n",
       "      <td>True</td>\n",
       "      <td>True</td>\n",
       "      <td>17</td>\n",
       "      <td>0</td>\n",
       "    </tr>\n",
       "    <tr>\n",
       "      <td>4</td>\n",
       "      <td>2020-01-06 17:00:00</td>\n",
       "      <td>12.37.36.110</td>\n",
       "      <td>17.41.50.32</td>\n",
       "      <td>82</td>\n",
       "      <td>1068</td>\n",
       "      <td>True</td>\n",
       "      <td>False</td>\n",
       "      <td>17</td>\n",
       "      <td>0</td>\n",
       "    </tr>\n",
       "  </tbody>\n",
       "</table>\n",
       "</div>"
      ],
      "text/plain": [
       "                   ts            src           dst  port  bytes  src_int  \\\n",
       "0 2020-01-06 17:00:00  16.79.101.100   12.48.65.39    92  11895    False   \n",
       "1 2020-01-06 17:00:00    18.80.91.46   14.30.29.98   114  42801    False   \n",
       "2 2020-01-06 17:00:00    12.56.32.72  19.96.123.77    27   1169     True   \n",
       "3 2020-01-06 17:00:00   13.32.102.63  14.39.124.47   105  19866     True   \n",
       "4 2020-01-06 17:00:00   12.37.36.110   17.41.50.32    82   1068     True   \n",
       "\n",
       "   dst_int  hour  minute  \n",
       "0     True    17       0  \n",
       "1     True    17       0  \n",
       "2    False    17       0  \n",
       "3     True    17       0  \n",
       "4    False    17       0  "
      ]
     },
     "execution_count": 15,
     "metadata": {},
     "output_type": "execute_result"
    }
   ],
   "source": [
    "df.head()"
   ]
  },
  {
   "cell_type": "code",
   "execution_count": 16,
   "metadata": {},
   "outputs": [],
   "source": [
    "all_ips = set(df['src'].unique()) | set(df['dst'].unique())"
   ]
  },
  {
   "cell_type": "code",
   "execution_count": null,
   "metadata": {},
   "outputs": [],
   "source": [
    "print('Unique src:', df['src'].nunique())"
   ]
  },
  {
   "cell_type": "code",
   "execution_count": null,
   "metadata": {},
   "outputs": [],
   "source": [
    "print('Unique dst:', df['dst'].nunique())"
   ]
  },
  {
   "cell_type": "code",
   "execution_count": null,
   "metadata": {},
   "outputs": [],
   "source": [
    "print('Total Unique IPs:', len(all_ips))"
   ]
  },
  {
   "cell_type": "code",
   "execution_count": null,
   "metadata": {},
   "outputs": [],
   "source": [
    "ip_type = pd.CategoricalDtype(categories=all_ips)"
   ]
  },
  {
   "cell_type": "code",
   "execution_count": null,
   "metadata": {},
   "outputs": [],
   "source": [
    "df['src'] = df['src'].astype(ip_type)"
   ]
  },
  {
   "cell_type": "code",
   "execution_count": null,
   "metadata": {},
   "outputs": [],
   "source": [
    "df['dst'] = df['dst'].astype(ip_type)"
   ]
  },
  {
   "cell_type": "code",
   "execution_count": 5,
   "metadata": {},
   "outputs": [
    {
     "name": "stdout",
     "output_type": "stream",
     "text": [
      "Unique src: 5970\n",
      "Unique dst: 5999\n",
      "Total Unique IPs: 5999\n",
      "<class 'pandas.core.frame.DataFrame'>\n",
      "RangeIndex: 924924 entries, 0 to 924923\n",
      "Data columns (total 9 columns):\n",
      "ts         924924 non-null datetime64[ns]\n",
      "src        924924 non-null category\n",
      "dst        924924 non-null category\n",
      "port       924924 non-null uint8\n",
      "bytes      924924 non-null int64\n",
      "src_int    924924 non-null bool\n",
      "dst_int    924924 non-null bool\n",
      "hour       924924 non-null uint8\n",
      "minute     924924 non-null uint8\n",
      "dtypes: bool(2), category(2), datetime64[ns](1), int64(1), uint8(3)\n",
      "memory usage: 22.5 MB\n"
     ]
    }
   ],
   "source": [
    "gc.collect()\n",
    "df.info()"
   ]
  },
  {
   "cell_type": "code",
   "execution_count": 6,
   "metadata": {},
   "outputs": [],
   "source": [
    "blacklist_ips = []\n",
    "answers = []"
   ]
  },
  {
   "cell_type": "code",
   "execution_count": 7,
   "metadata": {},
   "outputs": [
    {
     "data": {
      "text/html": [
       "<div>\n",
       "<style scoped>\n",
       "    .dataframe tbody tr th:only-of-type {\n",
       "        vertical-align: middle;\n",
       "    }\n",
       "\n",
       "    .dataframe tbody tr th {\n",
       "        vertical-align: top;\n",
       "    }\n",
       "\n",
       "    .dataframe thead th {\n",
       "        text-align: right;\n",
       "    }\n",
       "</style>\n",
       "<table border=\"1\" class=\"dataframe\">\n",
       "  <thead>\n",
       "    <tr style=\"text-align: right;\">\n",
       "      <th></th>\n",
       "      <th>bytes</th>\n",
       "    </tr>\n",
       "    <tr>\n",
       "      <th>src</th>\n",
       "      <th></th>\n",
       "    </tr>\n",
       "  </thead>\n",
       "  <tbody>\n",
       "    <tr>\n",
       "      <td>13.37.84.125</td>\n",
       "      <td>82957874</td>\n",
       "    </tr>\n",
       "    <tr>\n",
       "      <td>12.56.32.111</td>\n",
       "      <td>15253386</td>\n",
       "    </tr>\n",
       "    <tr>\n",
       "      <td>14.51.75.107</td>\n",
       "      <td>15217469</td>\n",
       "    </tr>\n",
       "    <tr>\n",
       "      <td>14.51.30.86</td>\n",
       "      <td>14713441</td>\n",
       "    </tr>\n",
       "    <tr>\n",
       "      <td>13.48.72.30</td>\n",
       "      <td>14574384</td>\n",
       "    </tr>\n",
       "  </tbody>\n",
       "</table>\n",
       "</div>"
      ],
      "text/plain": [
       "                 bytes\n",
       "src                   \n",
       "13.37.84.125  82957874\n",
       "12.56.32.111  15253386\n",
       "14.51.75.107  15217469\n",
       "14.51.30.86   14713441\n",
       "13.48.72.30   14574384"
      ]
     },
     "execution_count": 7,
     "metadata": {},
     "output_type": "execute_result"
    }
   ],
   "source": [
    "src_bytes_out = df[df['src_int'] & ~df['dst_int']]\\\n",
    "  .groupby('src')\\\n",
    "  .bytes.sum()\\\n",
    "  .pipe(lambda x: x[x > 0])\\\n",
    "  .sort_values(ascending=False)\n",
    "\n",
    "src_bytes_out.to_frame().head()"
   ]
  },
  {
   "cell_type": "code",
   "execution_count": 1,
   "metadata": {},
   "outputs": [
    {
     "ename": "NameError",
     "evalue": "name 'df' is not defined",
     "output_type": "error",
     "traceback": [
      "\u001b[1;31m---------------------------------------------------------------------------\u001b[0m",
      "\u001b[1;31mNameError\u001b[0m                                 Traceback (most recent call last)",
      "\u001b[1;32m<ipython-input-1-c42a15b2c7cf>\u001b[0m in \u001b[0;36m<module>\u001b[1;34m\u001b[0m\n\u001b[1;32m----> 1\u001b[1;33m \u001b[0mdf\u001b[0m\u001b[1;33m.\u001b[0m\u001b[0mhead\u001b[0m\u001b[1;33m(\u001b[0m\u001b[1;33m)\u001b[0m\u001b[1;33m\u001b[0m\u001b[1;33m\u001b[0m\u001b[0m\n\u001b[0m",
      "\u001b[1;31mNameError\u001b[0m: name 'df' is not defined"
     ]
    }
   ],
   "source": [
    "df.head()"
   ]
  },
  {
   "cell_type": "code",
   "execution_count": 8,
   "metadata": {},
   "outputs": [
    {
     "data": {
      "text/plain": [
       "Text(0.5, 0, 'total outbound bytes')"
      ]
     },
     "execution_count": 8,
     "metadata": {},
     "output_type": "execute_result"
    },
    {
     "data": {
      "image/png": "[encoded data removed]",
      "text/plain": [
       "<Figure size 432x288 with 1 Axes>"
      ]
     },
     "metadata": {
      "needs_background": "light"
     },
     "output_type": "display_data"
    }
   ],
   "source": [
    "src_bytes_out.head(10)\\\n",
    "    .sort_values()\\\n",
    "    .plot.barh(title='Top 10 high outbound traffic srcs')\\\n",
    "    .set_xlabel('total outbound bytes')"
   ]
  },
  {
   "cell_type": "code",
   "execution_count": 9,
   "metadata": {},
   "outputs": [
    {
     "data": {
      "text/plain": [
       "Text(82957874, 100, '13.37.84.125')"
      ]
     },
     "execution_count": 9,
     "metadata": {},
     "output_type": "execute_result"
    },
    {
     "data": {
      "image/png": "[encoded data removed]",
      "text/plain": [
       "<Figure size 432x288 with 1 Axes>"
      ]
     },
     "metadata": {
      "needs_background": "light"
     },
     "output_type": "display_data"
    }
   ],
   "source": [
    "ax = src_bytes_out\\\n",
    "  .plot.hist(bins=50, title='Outbound traffic per src')\n",
    "\n",
    "ax.set_xlabel('total outbound bytes')\n",
    "_ = ax.axvline(src_bytes_out.iloc[0], linestyle='--')\n",
    "plt.text(src_bytes_out.iloc[0], 100, '13.37.84.125', rotation=90, horizontalalignment='right')"
   ]
  },
  {
   "cell_type": "code",
   "execution_count": 10,
   "metadata": {},
   "outputs": [],
   "source": [
    "blacklist_ips.append('13.37.84.125')\n",
    "answers.append('13.37.84.125')"
   ]
  },
  {
   "cell_type": "code",
   "execution_count": 11,
   "metadata": {},
   "outputs": [
    {
     "data": {
      "text/plain": [
       "Text(0, 0.5, 'Connection counts')"
      ]
     },
     "execution_count": 11,
     "metadata": {},
     "output_type": "execute_result"
    },
    {
     "data": {
      "image/png": "[encoded data removed]",
      "text/plain": [
       "<Figure size 432x288 with 1 Axes>"
      ]
     },
     "metadata": {
      "needs_background": "light"
     },
     "output_type": "display_data"
    }
   ],
   "source": [
    "df.groupby('hour').size()\\\n",
    "  .plot.bar(title='Activity per hour')\\\n",
    "  .set_ylabel('Connection counts')"
   ]
  },
  {
   "cell_type": "code",
   "execution_count": 12,
   "metadata": {},
   "outputs": [
    {
     "data": {
      "text/plain": [
       "src\n",
       "16.57.120.106   NaN\n",
       "15.24.117.48    NaN\n",
       "15.94.59.123    NaN\n",
       "19.68.56.123    NaN\n",
       "19.44.59.45     NaN\n",
       "Name: bytes, dtype: float64"
      ]
     },
     "execution_count": 12,
     "metadata": {},
     "output_type": "execute_result"
    }
   ],
   "source": [
    "off_hours_activity = df[\n",
    "    ~df['src'].isin(blacklist_ips)          # Not including previous answers\n",
    "    & df['src_int'] & ~df['dst_int']        # Outbound\n",
    "    & (df['hour'] >= 0) & (df['hour'] < 16) # Off hours\n",
    "].groupby('src')\\\n",
    "  .bytes.sum()\\\n",
    "  .sort_values(ascending=False)\\\n",
    "  .where(lambda x: x > 0)\n",
    "\n",
    "off_hours_activity.head()"
   ]
  },
  {
   "cell_type": "code",
   "execution_count": 15,
   "metadata": {},
   "outputs": [
    {
     "data": {
      "text/plain": [
       "Text(7443482, 100, '12.55.77.96')"
      ]
     },
     "execution_count": 15,
     "metadata": {},
     "output_type": "execute_result"
    },
    {
     "data": {
      "image/png": "[encoded data removed]",
      "text/plain": [
       "<Figure size 432x288 with 1 Axes>"
      ]
     },
     "metadata": {
      "needs_background": "light"
     },
     "output_type": "display_data"
    }
   ],
   "source": [
    "ax = src_bytes_out\\\n",
    "  .plot.hist(bins=50, title='Outbound traffic per src')\n",
    "\n",
    "ax.set_xlabel('total outbound bytes')\n",
    "_ = ax.axvline(src_bytes_out.loc['12.55.77.96'], color='k', linestyle='--')\n",
    "plt.text(src_bytes_out.loc['12.55.77.96'], 100, '12.55.77.96', rotation=90, horizontalalignment='right')"
   ]
  },
  {
   "cell_type": "code",
   "execution_count": 16,
   "metadata": {},
   "outputs": [],
   "source": [
    "blacklist_ips.append('12.55.77.96')\n",
    "answers.append('12.55.77.96')"
   ]
  },
  {
   "cell_type": "code",
   "execution_count": 17,
   "metadata": {},
   "outputs": [
    {
     "name": "stdout",
     "output_type": "stream",
     "text": [
      "Number of unique ports: 45\n"
     ]
    }
   ],
   "source": [
    "src_port_bytes_df = df[\n",
    "        ~df['src'].isin(blacklist_ips)     # Not including previous answers\n",
    "        & df['src_int'] & ~df['dst_int']   # Outbound\n",
    "    ].groupby(['src', 'port'])\\\n",
    "        .bytes.sum()\\\n",
    "        .reset_index()\n",
    "\n",
    "ports = src_port_bytes_df['port'].unique()\n",
    "print('Number of unique ports:', len(ports))"
   ]
  },
  {
   "cell_type": "code",
   "execution_count": 18,
   "metadata": {},
   "outputs": [
    {
     "data": {
      "text/html": [
       "<div>\n",
       "<style scoped>\n",
       "    .dataframe tbody tr th:only-of-type {\n",
       "        vertical-align: middle;\n",
       "    }\n",
       "\n",
       "    .dataframe tbody tr th {\n",
       "        vertical-align: top;\n",
       "    }\n",
       "\n",
       "    .dataframe thead th {\n",
       "        text-align: right;\n",
       "    }\n",
       "</style>\n",
       "<table border=\"1\" class=\"dataframe\">\n",
       "  <thead>\n",
       "    <tr style=\"text-align: right;\">\n",
       "      <th></th>\n",
       "      <th>src</th>\n",
       "      <th>port</th>\n",
       "      <th>bytes</th>\n",
       "    </tr>\n",
       "  </thead>\n",
       "  <tbody>\n",
       "  </tbody>\n",
       "</table>\n",
       "</div>"
      ],
      "text/plain": [
       "Empty DataFrame\n",
       "Columns: [src, port, bytes]\n",
       "Index: []"
      ]
     },
     "execution_count": 18,
     "metadata": {},
     "output_type": "execute_result"
    }
   ],
   "source": [
    "src_port_bytes_df[src_port_bytes_df.port == 113]"
   ]
  },
  {
   "cell_type": "code",
   "execution_count": 19,
   "metadata": {},
   "outputs": [
    {
     "data": {
      "text/plain": [
       "Text(0, 0.5, 'Total outbound bytes')"
      ]
     },
     "execution_count": 19,
     "metadata": {},
     "output_type": "execute_result"
    },
    {
     "data": {
      "image/png": "[encoded data removed]",
      "text/plain": [
       "<Figure size 1152x288 with 1 Axes>"
      ]
     },
     "metadata": {
      "needs_background": "light"
     },
     "output_type": "display_data"
    }
   ],
   "source": [
    "src_port_bytes_df.groupby('port')\\\n",
    "    .bytes.sum()\\\n",
    "    .sort_values(ascending=False)\\\n",
    "    .plot.bar(figsize=(16,4), rot=0, title=\"Outbound bytes per port\")\\\n",
    "    .set_ylabel('Total outbound bytes')"
   ]
  },
  {
   "cell_type": "code",
   "execution_count": 20,
   "metadata": {},
   "outputs": [
    {
     "data": {
      "image/png": "[encoded data removed]",
      "text/plain": [
       "<Figure size 864x432 with 9 Axes>"
      ]
     },
     "metadata": {
      "needs_background": "light"
     },
     "output_type": "display_data"
    }
   ],
   "source": [
    "fig, axs = plt.subplots(ncols=3, nrows=3, sharey=True, figsize=(12,6))\n",
    "\n",
    "for idx, p in enumerate(src_port_bytes_df.port.head(9)):\n",
    "    src_port_bytes_df[src_port_bytes_df.port == p]\\\n",
    "        .bytes.plot.hist(title='Distribution for port {}'.format(p), ax = axs[idx % 3][idx // 3])\\\n",
    "        .set_xlabel('total outbound bytes')\n",
    "\n",
    "    plt.tight_layout()"
   ]
  },
  {
   "cell_type": "code",
   "execution_count": 21,
   "metadata": {},
   "outputs": [
    {
     "data": {
      "text/plain": [
       "Text(0.5, 0, 'Max z-score')"
      ]
     },
     "execution_count": 21,
     "metadata": {},
     "output_type": "execute_result"
    },
    {
     "data": {
      "image/png": "[encoded data removed]",
      "text/plain": [
       "<Figure size 432x288 with 1 Axes>"
      ]
     },
     "metadata": {
      "needs_background": "light"
     },
     "output_type": "display_data"
    }
   ],
   "source": [
    "src_port_bytes_df\\\n",
    "  .groupby('port')\\\n",
    "  .apply(lambda x: np.max((x.bytes - x.bytes.mean()) / x.bytes.std()))\\\n",
    "  .sort_values(ascending=True)\\\n",
    "  .tail(10)\\\n",
    "  .plot.barh(title='Top z-score value per port')\\\n",
    "  .set_xlabel('Max z-score')"
   ]
  },
  {
   "cell_type": "code",
   "execution_count": 22,
   "metadata": {},
   "outputs": [
    {
     "data": {
      "text/html": [
       "<div>\n",
       "<style scoped>\n",
       "    .dataframe tbody tr th:only-of-type {\n",
       "        vertical-align: middle;\n",
       "    }\n",
       "\n",
       "    .dataframe tbody tr th {\n",
       "        vertical-align: top;\n",
       "    }\n",
       "\n",
       "    .dataframe thead th {\n",
       "        text-align: right;\n",
       "    }\n",
       "</style>\n",
       "<table border=\"1\" class=\"dataframe\">\n",
       "  <thead>\n",
       "    <tr style=\"text-align: right;\">\n",
       "      <th></th>\n",
       "      <th>src</th>\n",
       "      <th>port</th>\n",
       "      <th>bytes</th>\n",
       "    </tr>\n",
       "  </thead>\n",
       "  <tbody>\n",
       "    <tr>\n",
       "      <td>266759</td>\n",
       "      <td>12.30.96.87</td>\n",
       "      <td>124</td>\n",
       "      <td>829.0</td>\n",
       "    </tr>\n",
       "  </tbody>\n",
       "</table>\n",
       "</div>"
      ],
      "text/plain": [
       "                src  port  bytes\n",
       "266759  12.30.96.87   124  829.0"
      ]
     },
     "execution_count": 22,
     "metadata": {},
     "output_type": "execute_result"
    }
   ],
   "source": [
    "src_124 = src_port_bytes_df\\\n",
    "  .pipe(lambda x: x[x['port'] == 124])\\\n",
    "  .sort_values('bytes', ascending=False).head(1)\n",
    "\n",
    "src_124"
   ]
  },
  {
   "cell_type": "code",
   "execution_count": 23,
   "metadata": {},
   "outputs": [
    {
     "data": {
      "text/plain": [
       "Text(829.0, 100, '12.30.96.87')"
      ]
     },
     "execution_count": 23,
     "metadata": {},
     "output_type": "execute_result"
    },
    {
     "data": {
      "image/png": "[encoded data removed]",
      "text/plain": [
       "<Figure size 432x288 with 1 Axes>"
      ]
     },
     "metadata": {
      "needs_background": "light"
     },
     "output_type": "display_data"
    }
   ],
   "source": [
    "ax = src_port_bytes_df[src_port_bytes_df.port == 124]\\\n",
    "    .bytes.plot.hist(bins=50, title='Distribution of outbound data usage for port 124')\n",
    "\n",
    "ax.set_xlabel('total outbound bytes')\n",
    "_ = ax.axvline(src_124.iloc[0, 2], linestyle='--')\n",
    "plt.text(src_124.iloc[0, 2], 100, '12.30.96.87', rotation=90, horizontalalignment='right')"
   ]
  },
  {
   "cell_type": "code",
   "execution_count": 24,
   "metadata": {},
   "outputs": [],
   "source": [
    "blacklist_ips.append('12.30.96.87')\n",
    "answers.append('124')"
   ]
  },
  {
   "cell_type": "code",
   "execution_count": 25,
   "metadata": {},
   "outputs": [
    {
     "data": {
      "text/plain": [
       "port\n",
       "113      1\n",
       "106    885\n",
       "123    899\n",
       "124    910\n",
       "112    918\n",
       "dtype: int64"
      ]
     },
     "execution_count": 25,
     "metadata": {},
     "output_type": "execute_result"
    }
   ],
   "source": [
    "df[~df['src_int']]\\\n",
    "  .drop_duplicates(('src', 'port'))\\\n",
    "  .groupby('port').size()\\\n",
    "  .sort_values()\\\n",
    "  .head()"
   ]
  },
  {
   "cell_type": "code",
   "execution_count": 26,
   "metadata": {},
   "outputs": [
    {
     "data": {
      "text/html": [
       "<div>\n",
       "<style scoped>\n",
       "    .dataframe tbody tr th:only-of-type {\n",
       "        vertical-align: middle;\n",
       "    }\n",
       "\n",
       "    .dataframe tbody tr th {\n",
       "        vertical-align: top;\n",
       "    }\n",
       "\n",
       "    .dataframe thead th {\n",
       "        text-align: right;\n",
       "    }\n",
       "</style>\n",
       "<table border=\"1\" class=\"dataframe\">\n",
       "  <thead>\n",
       "    <tr style=\"text-align: right;\">\n",
       "      <th></th>\n",
       "      <th>src</th>\n",
       "      <th>dst</th>\n",
       "      <th>port</th>\n",
       "    </tr>\n",
       "  </thead>\n",
       "  <tbody>\n",
       "    <tr>\n",
       "      <td>397451</td>\n",
       "      <td>15.104.76.58</td>\n",
       "      <td>12.45.104.32</td>\n",
       "      <td>113</td>\n",
       "    </tr>\n",
       "  </tbody>\n",
       "</table>\n",
       "</div>"
      ],
      "text/plain": [
       "                 src           dst  port\n",
       "397451  15.104.76.58  12.45.104.32   113"
      ]
     },
     "execution_count": 26,
     "metadata": {},
     "output_type": "execute_result"
    }
   ],
   "source": [
    "df[~df['src_int'] & (df['port'] == 113)][['src', 'dst', 'port']]"
   ]
  },
  {
   "cell_type": "code",
   "execution_count": 61,
   "metadata": {},
   "outputs": [
    {
     "data": {
      "text/html": [
       "<div>\n",
       "<style scoped>\n",
       "    .dataframe tbody tr th:only-of-type {\n",
       "        vertical-align: middle;\n",
       "    }\n",
       "\n",
       "    .dataframe tbody tr th {\n",
       "        vertical-align: top;\n",
       "    }\n",
       "\n",
       "    .dataframe thead th {\n",
       "        text-align: right;\n",
       "    }\n",
       "</style>\n",
       "<table border=\"1\" class=\"dataframe\">\n",
       "  <thead>\n",
       "    <tr style=\"text-align: right;\">\n",
       "      <th></th>\n",
       "      <th>src</th>\n",
       "      <th>dst</th>\n",
       "      <th>port</th>\n",
       "    </tr>\n",
       "  </thead>\n",
       "  <tbody>\n",
       "    <tr>\n",
       "      <td>397451</td>\n",
       "      <td>15.104.76.58</td>\n",
       "      <td>12.45.104.32</td>\n",
       "      <td>113</td>\n",
       "    </tr>\n",
       "  </tbody>\n",
       "</table>\n",
       "</div>"
      ],
      "text/plain": [
       "                 src           dst  port\n",
       "397451  15.104.76.58  12.45.104.32   113"
      ]
     },
     "execution_count": 61,
     "metadata": {},
     "output_type": "execute_result"
    }
   ],
   "source": [
    "df[(df['src'] == '15.104.76.58') & (df['dst'] == '12.45.104.32')]\\\n",
    "    [['src', 'dst', 'port']]"
   ]
  },
  {
   "cell_type": "code",
   "execution_count": 28,
   "metadata": {},
   "outputs": [],
   "source": [
    "answers.append('113')"
   ]
  },
  {
   "cell_type": "code",
   "execution_count": 29,
   "metadata": {},
   "outputs": [],
   "source": [
    "import networkx\n",
    "from networkx.algorithms.approximation.clique import large_clique_size \n",
    "from collections import Counter"
   ]
  },
  {
   "cell_type": "code",
   "execution_count": 30,
   "metadata": {},
   "outputs": [],
   "source": [
    "internal_edges_all = df[\n",
    "  df['src_int'] & df['dst_int']\n",
    "].drop_duplicates(['src', 'dst', 'port'])\n",
    "internal_ports = internal_edges_all.port.unique()"
   ]
  },
  {
   "cell_type": "code",
   "execution_count": 31,
   "metadata": {},
   "outputs": [],
   "source": [
    "port_upper_bounds = []\n",
    "for p in internal_ports:\n",
    "    internal_edges = internal_edges_all\\\n",
    "        .pipe(lambda x: x[x['port'] == p])\\\n",
    "        .drop_duplicates(['src', 'dst'])\n",
    "\n",
    "    edges = set()\n",
    "    for l, r in zip(internal_edges.src, internal_edges.dst):\n",
    "        k = min((l, r), (r, l))\n",
    "        edges.add(k)\n",
    "    \n",
    "    degrees = Counter()\n",
    "    for (l, r) in edges:\n",
    "        degrees[l] += 1\n",
    "        degrees[r] += 1\n",
    "    \n",
    "    max_clique_size = 0\n",
    "    min_degrees = len(degrees)\n",
    "    for idx, (node, degree) in enumerate(degrees.most_common()):\n",
    "        min_degrees = min(min_degrees, degree)\n",
    "        if min_degrees >= idx:\n",
    "            max_clique_size = max(max_clique_size, idx+1)\n",
    "        if min_degrees < max_clique_size:\n",
    "            break\n",
    "            \n",
    "    port_upper_bounds.append((p, max_clique_size + 1))"
   ]
  },
  {
   "cell_type": "code",
   "execution_count": 32,
   "metadata": {},
   "outputs": [
    {
     "data": {
      "text/plain": [
       "[(40, 36), (105, 35), (44, 35), (56, 35), (55, 35)]"
      ]
     },
     "execution_count": 32,
     "metadata": {},
     "output_type": "execute_result"
    }
   ],
   "source": [
    "port_upper_bounds.sort(key = lambda x: -x[-1])\n",
    "port_upper_bounds[:5]"
   ]
  },
  {
   "cell_type": "code",
   "execution_count": 33,
   "metadata": {},
   "outputs": [],
   "source": [
    "max_port = 0\n",
    "curr_max_clique = 0\n",
    "for p, max_clique_upper_bound in port_upper_bounds:\n",
    "    if curr_max_clique > max_clique_upper_bound: break\n",
    "    \n",
    "    internal_edges = internal_edges_all\\\n",
    "        .pipe(lambda x: x[x['port'] == p])\\\n",
    "        .drop_duplicates(['src', 'dst'])\n",
    "  \n",
    "    internal_nodes = set(internal_edges.src) | set(internal_edges.dst)\n",
    "    G = networkx.Graph()\n",
    "    G.add_nodes_from(internal_nodes)\n",
    "    for l, r in zip(internal_edges.src, internal_edges.dst):\n",
    "        G.add_edge(l, r)        \n",
    "        \n",
    "    _size = large_clique_size(G) \n",
    "    if curr_max_clique < _size:\n",
    "        curr_max_clique = _size\n",
    "        max_port = p"
   ]
  },
  {
   "cell_type": "code",
   "execution_count": 34,
   "metadata": {},
   "outputs": [
    {
     "name": "stdout",
     "output_type": "stream",
     "text": [
      "Port 40 has approx. max clique size 4\n"
     ]
    }
   ],
   "source": [
    "print('Port {} has approx. max clique size {}'.format(max_port, curr_max_clique))\n",
    "answers.append(str(max_port))"
   ]
  },
  {
   "cell_type": "code",
   "execution_count": 35,
   "metadata": {},
   "outputs": [
    {
     "name": "stdout",
     "output_type": "stream",
     "text": [
      "Count of \"little reason\" src: 19\n"
     ]
    }
   ],
   "source": [
    "single_dst = df[~df['src_int'] & df['dst_int']]\\\n",
    "    .drop_duplicates(['src', 'dst'])\\\n",
    "    .src.value_counts()\\\n",
    "    .pipe(lambda x: x[x == 1])\\\n",
    "    .index\n",
    "\n",
    "print('Count of \"little reason\" src:', len(single_dst))"
   ]
  },
  {
   "cell_type": "code",
   "execution_count": 36,
   "metadata": {},
   "outputs": [
    {
     "data": {
      "text/plain": [
       "dst\n",
       "13.56.39.74      1.0\n",
       "12.48.42.74      1.0\n",
       "12.43.57.22      1.0\n",
       "14.31.119.101    1.0\n",
       "12.45.30.70      1.0\n",
       "13.57.99.96      1.0\n",
       "13.55.75.103     1.0\n",
       "14.57.40.79      1.0\n",
       "12.45.25.43      1.0\n",
       "13.46.35.35      1.0\n",
       "13.38.107.31     1.0\n",
       "12.56.80.111     1.0\n",
       "12.38.44.45      1.0\n",
       "13.35.40.50      1.0\n",
       "13.34.88.95      1.0\n",
       "14.47.111.24     1.0\n",
       "14.52.45.116     1.0\n",
       "13.59.64.32      1.0\n",
       "14.33.32.62      1.0\n",
       "dtype: float64"
      ]
     },
     "execution_count": 36,
     "metadata": {},
     "output_type": "execute_result"
    }
   ],
   "source": [
    "df[~df['src_int'] & df['dst_int']]\\\n",
    "    .pipe(lambda x: x[x.src.isin(single_dst)])\\\n",
    "    .drop_duplicates(['src', 'dst'])\\\n",
    "    .groupby('dst').size()\\\n",
    "    .where(lambda x: x > 0).dropna()"
   ]
  },
  {
   "cell_type": "code",
   "execution_count": 37,
   "metadata": {},
   "outputs": [
    {
     "data": {
      "text/html": [
       "<div>\n",
       "<style scoped>\n",
       "    .dataframe tbody tr th:only-of-type {\n",
       "        vertical-align: middle;\n",
       "    }\n",
       "\n",
       "    .dataframe tbody tr th {\n",
       "        vertical-align: top;\n",
       "    }\n",
       "\n",
       "    .dataframe thead th {\n",
       "        text-align: right;\n",
       "    }\n",
       "</style>\n",
       "<table border=\"1\" class=\"dataframe\">\n",
       "  <thead>\n",
       "    <tr style=\"text-align: right;\">\n",
       "      <th></th>\n",
       "      <th>ts</th>\n",
       "      <th>src</th>\n",
       "      <th>dst</th>\n",
       "      <th>port</th>\n",
       "      <th>bytes</th>\n",
       "      <th>src_int</th>\n",
       "      <th>dst_int</th>\n",
       "      <th>hour</th>\n",
       "      <th>minute</th>\n",
       "    </tr>\n",
       "  </thead>\n",
       "  <tbody>\n",
       "    <tr>\n",
       "      <td>18659</td>\n",
       "      <td>2020-01-06 17:00:00</td>\n",
       "      <td>19.90.46.28</td>\n",
       "      <td>14.31.119.101</td>\n",
       "      <td>55</td>\n",
       "      <td>30001</td>\n",
       "      <td>False</td>\n",
       "      <td>True</td>\n",
       "      <td>17</td>\n",
       "      <td>0</td>\n",
       "    </tr>\n",
       "    <tr>\n",
       "      <td>23763</td>\n",
       "      <td>2020-01-06 17:00:00</td>\n",
       "      <td>15.45.106.36</td>\n",
       "      <td>14.47.111.24</td>\n",
       "      <td>75</td>\n",
       "      <td>5087</td>\n",
       "      <td>False</td>\n",
       "      <td>True</td>\n",
       "      <td>17</td>\n",
       "      <td>0</td>\n",
       "    </tr>\n",
       "    <tr>\n",
       "      <td>112123</td>\n",
       "      <td>2020-01-06 17:00:00</td>\n",
       "      <td>15.47.120.66</td>\n",
       "      <td>13.59.64.32</td>\n",
       "      <td>114</td>\n",
       "      <td>5823</td>\n",
       "      <td>False</td>\n",
       "      <td>True</td>\n",
       "      <td>17</td>\n",
       "      <td>0</td>\n",
       "    </tr>\n",
       "    <tr>\n",
       "      <td>126977</td>\n",
       "      <td>2020-01-06 17:00:00</td>\n",
       "      <td>17.26.123.90</td>\n",
       "      <td>12.38.44.45</td>\n",
       "      <td>39</td>\n",
       "      <td>17120</td>\n",
       "      <td>False</td>\n",
       "      <td>True</td>\n",
       "      <td>17</td>\n",
       "      <td>0</td>\n",
       "    </tr>\n",
       "    <tr>\n",
       "      <td>164487</td>\n",
       "      <td>2020-01-06 17:00:00</td>\n",
       "      <td>15.121.121.121</td>\n",
       "      <td>13.38.107.31</td>\n",
       "      <td>115</td>\n",
       "      <td>7987</td>\n",
       "      <td>False</td>\n",
       "      <td>True</td>\n",
       "      <td>17</td>\n",
       "      <td>0</td>\n",
       "    </tr>\n",
       "  </tbody>\n",
       "</table>\n",
       "</div>"
      ],
      "text/plain": [
       "                        ts             src            dst  port  bytes  \\\n",
       "18659  2020-01-06 17:00:00     19.90.46.28  14.31.119.101    55  30001   \n",
       "23763  2020-01-06 17:00:00    15.45.106.36   14.47.111.24    75   5087   \n",
       "112123 2020-01-06 17:00:00    15.47.120.66    13.59.64.32   114   5823   \n",
       "126977 2020-01-06 17:00:00    17.26.123.90    12.38.44.45    39  17120   \n",
       "164487 2020-01-06 17:00:00  15.121.121.121   13.38.107.31   115   7987   \n",
       "\n",
       "        src_int  dst_int  hour  minute  \n",
       "18659     False     True    17       0  \n",
       "23763     False     True    17       0  \n",
       "112123    False     True    17       0  \n",
       "126977    False     True    17       0  \n",
       "164487    False     True    17       0  "
      ]
     },
     "execution_count": 37,
     "metadata": {},
     "output_type": "execute_result"
    }
   ],
   "source": [
    "df[~df['src_int'] & df['dst_int']]\\\n",
    "  .pipe(lambda x: x[x.src.isin(single_dst)])\\\n",
    "  .drop_duplicates(['src', 'dst'])\\\n",
    "  .head()"
   ]
  },
  {
   "cell_type": "code",
   "execution_count": 38,
   "metadata": {},
   "outputs": [],
   "source": [
    "blacklist_ips.append('14.45.67.46')\n",
    "answers.append('14.45.67.46')"
   ]
  },
  {
   "cell_type": "code",
   "execution_count": 39,
   "metadata": {},
   "outputs": [
    {
     "data": {
      "text/html": [
       "<div>\n",
       "<style scoped>\n",
       "    .dataframe tbody tr th:only-of-type {\n",
       "        vertical-align: middle;\n",
       "    }\n",
       "\n",
       "    .dataframe tbody tr th {\n",
       "        vertical-align: top;\n",
       "    }\n",
       "\n",
       "    .dataframe thead th {\n",
       "        text-align: right;\n",
       "    }\n",
       "</style>\n",
       "<table border=\"1\" class=\"dataframe\">\n",
       "  <thead>\n",
       "    <tr style=\"text-align: right;\">\n",
       "      <th></th>\n",
       "      <th>ts</th>\n",
       "      <th>src</th>\n",
       "      <th>dst</th>\n",
       "      <th>port</th>\n",
       "      <th>bytes</th>\n",
       "      <th>src_int</th>\n",
       "      <th>dst_int</th>\n",
       "      <th>hour</th>\n",
       "      <th>minute</th>\n",
       "    </tr>\n",
       "  </thead>\n",
       "  <tbody>\n",
       "  </tbody>\n",
       "</table>\n",
       "</div>"
      ],
      "text/plain": [
       "Empty DataFrame\n",
       "Columns: [ts, src, dst, port, bytes, src_int, dst_int, hour, minute]\n",
       "Index: []"
      ]
     },
     "execution_count": 39,
     "metadata": {},
     "output_type": "execute_result"
    }
   ],
   "source": [
    "df[\n",
    "    df['src_int'] & df['dst_int']\n",
    "    & (df['dst'] == '14.45.67.46')\n",
    "    & (df['port'] == 27)\n",
    "].drop_duplicates('src')"
   ]
  },
  {
   "cell_type": "code",
   "execution_count": 40,
   "metadata": {},
   "outputs": [],
   "source": [
    "blacklist_ips.append('14.51.84.50')\n",
    "answers.append('14.51.84.50')"
   ]
  },
  {
   "cell_type": "code",
   "execution_count": 41,
   "metadata": {},
   "outputs": [
    {
     "data": {
      "text/plain": [
       "dst\n",
       "17.26.69.65      1\n",
       "15.101.96.41     1\n",
       "17.33.122.88     1\n",
       "17.114.46.103    1\n",
       "19.25.109.51     1\n",
       "                ..\n",
       "17.29.29.61      1\n",
       "17.58.92.120     1\n",
       "18.15.87.81      1\n",
       "19.118.34.87     1\n",
       "16.57.120.106    1\n",
       "Length: 4999, dtype: int64"
      ]
     },
     "execution_count": 41,
     "metadata": {},
     "output_type": "execute_result"
    }
   ],
   "source": [
    "periodic_callbacks = df[df['src_int'] & ~df['dst_int']]\\\n",
    "  .drop_duplicates(['dst', 'minute'])\\\n",
    "  .groupby('dst').size()\\\n",
    "  .pipe(lambda x: x[(x > 0) & (x <= 4)])\\\n",
    "  .sort_values()\n",
    "\n",
    "periodic_callbacks"
   ]
  },
  {
   "cell_type": "code",
   "execution_count": 45,
   "metadata": {},
   "outputs": [],
   "source": [
    "answers.append('51')"
   ]
  },
  {
   "cell_type": "code",
   "execution_count": 46,
   "metadata": {},
   "outputs": [
    {
     "data": {
      "text/plain": [
       "dst\n",
       "19.118.96.47      14348.668258\n",
       "18.120.93.68      14623.899706\n",
       "19.125.107.101    14826.902474\n",
       "16.92.46.73       14972.621838\n",
       "18.91.22.81       15287.965274\n",
       "16.63.30.54       15414.481321\n",
       "19.123.65.83      16259.844999\n",
       "15.91.91.116      16307.281133\n",
       "19.95.75.61       16350.752653\n",
       "19.76.25.105      16379.555571\n",
       "Name: bytes, dtype: float64"
      ]
     },
     "execution_count": 46,
     "metadata": {},
     "output_type": "execute_result"
    }
   ],
   "source": [
    "df[~df['dst_int']]\\\n",
    "    .groupby('dst')\\\n",
    "    .bytes.std()\\\n",
    "    .sort_values()\\\n",
    "    .head(10)"
   ]
  },
  {
   "cell_type": "code",
   "execution_count": 47,
   "metadata": {},
   "outputs": [
    {
     "data": {
      "text/plain": [
       "port\n",
       "36       35\n",
       "32       39\n",
       "95       44\n",
       "21       52\n",
       "78       52\n",
       "117    4191\n",
       "106    4196\n",
       "42     4207\n",
       "112    4211\n",
       "123    4243\n",
       "dtype: int64"
      ]
     },
     "execution_count": 47,
     "metadata": {},
     "output_type": "execute_result"
    }
   ],
   "source": [
    "df[~df['dst_int']]\\\n",
    "    .groupby('port').size()\\\n",
    "    .sort_values()\\\n",
    "    .head(10)"
   ]
  },
  {
   "cell_type": "code",
   "execution_count": 48,
   "metadata": {},
   "outputs": [
    {
     "data": {
      "text/html": [
       "<div>\n",
       "<style scoped>\n",
       "    .dataframe tbody tr th:only-of-type {\n",
       "        vertical-align: middle;\n",
       "    }\n",
       "\n",
       "    .dataframe tbody tr th {\n",
       "        vertical-align: top;\n",
       "    }\n",
       "\n",
       "    .dataframe thead th {\n",
       "        text-align: right;\n",
       "    }\n",
       "</style>\n",
       "<table border=\"1\" class=\"dataframe\">\n",
       "  <thead>\n",
       "    <tr style=\"text-align: right;\">\n",
       "      <th></th>\n",
       "      <th>src</th>\n",
       "      <th>dst</th>\n",
       "      <th>bytes</th>\n",
       "    </tr>\n",
       "  </thead>\n",
       "  <tbody>\n",
       "    <tr>\n",
       "      <td>2</td>\n",
       "      <td>12.56.32.72</td>\n",
       "      <td>19.96.123.77</td>\n",
       "      <td>1169</td>\n",
       "    </tr>\n",
       "    <tr>\n",
       "      <td>4</td>\n",
       "      <td>12.37.36.110</td>\n",
       "      <td>17.41.50.32</td>\n",
       "      <td>1068</td>\n",
       "    </tr>\n",
       "    <tr>\n",
       "      <td>5</td>\n",
       "      <td>12.49.35.70</td>\n",
       "      <td>19.87.55.92</td>\n",
       "      <td>82927</td>\n",
       "    </tr>\n",
       "    <tr>\n",
       "      <td>7</td>\n",
       "      <td>14.49.37.85</td>\n",
       "      <td>15.95.99.95</td>\n",
       "      <td>42</td>\n",
       "    </tr>\n",
       "    <tr>\n",
       "      <td>8</td>\n",
       "      <td>12.53.30.67</td>\n",
       "      <td>19.90.85.43</td>\n",
       "      <td>35667</td>\n",
       "    </tr>\n",
       "  </tbody>\n",
       "</table>\n",
       "</div>"
      ],
      "text/plain": [
       "            src           dst  bytes\n",
       "2   12.56.32.72  19.96.123.77   1169\n",
       "4  12.37.36.110   17.41.50.32   1068\n",
       "5   12.49.35.70   19.87.55.92  82927\n",
       "7   14.49.37.85   15.95.99.95     42\n",
       "8   12.53.30.67   19.90.85.43  35667"
      ]
     },
     "execution_count": 48,
     "metadata": {},
     "output_type": "execute_result"
    }
   ],
   "source": [
    "df.loc[\n",
    "    df.dst.isin(periodic_callbacks.index),\n",
    "    ['src', 'dst', 'bytes']\n",
    "].head()"
   ]
  },
  {
   "cell_type": "code",
   "execution_count": 49,
   "metadata": {},
   "outputs": [
    {
     "data": {
      "text/plain": [
       "<matplotlib.axes._subplots.AxesSubplot at 0x21c001df108>"
      ]
     },
     "execution_count": 49,
     "metadata": {},
     "output_type": "execute_result"
    },
    {
     "data": {
      "image/png": "[encoded data removed]",
      "text/plain": [
       "<Figure size 432x288 with 1 Axes>"
      ]
     },
     "metadata": {
      "needs_background": "light"
     },
     "output_type": "display_data"
    }
   ],
   "source": [
    "df[df.dst.isin(periodic_callbacks.index)]\\\n",
    "    .ts.diff()\\\n",
    "    .dt.total_seconds()\\\n",
    "    .plot.hist(bins=50)"
   ]
  },
  {
   "cell_type": "code",
   "execution_count": 50,
   "metadata": {},
   "outputs": [
    {
     "data": {
      "text/plain": [
       "src\n",
       "14.51.62.54     169\n",
       "12.49.68.75     164\n",
       "14.41.99.120    163\n",
       "12.58.122.56    162\n",
       "12.58.54.120    160\n",
       "dtype: int64"
      ]
     },
     "execution_count": 50,
     "metadata": {},
     "output_type": "execute_result"
    }
   ],
   "source": [
    "dst_counts = df[df['src_int'] & df['dst_int']]\\\n",
    "    .drop_duplicates(['src', 'dst'])\\\n",
    "    .groupby('src').size()\\\n",
    "    .sort_values(ascending=False)\n",
    "dst_counts.head()"
   ]
  },
  {
   "cell_type": "code",
   "execution_count": 49,
   "metadata": {},
   "outputs": [],
   "source": [
    "blacklist_ips.append('13.42.70.40')\n",
    "answers.append('13.42.70.40')"
   ]
  },
  {
   "cell_type": "code",
   "execution_count": 52,
   "metadata": {},
   "outputs": [],
   "source": [
    "# Getting internal only connections\n",
    "int_df = df[df['src_int'] & df['dst_int']]\\\n",
    "    .pipe(lambda x: x[~x.src.isin(blacklist_ips)])\\\n",
    "    .drop_duplicates(('src', 'dst', 'port'))"
   ]
  },
  {
   "cell_type": "code",
   "execution_count": 53,
   "metadata": {},
   "outputs": [
    {
     "name": "stdout",
     "output_type": "stream",
     "text": [
      "Unique dsts\n"
     ]
    },
    {
     "data": {
      "text/plain": [
       "src\n",
       "14.51.62.54     169\n",
       "12.49.68.75     164\n",
       "14.41.99.120    163\n",
       "12.58.122.56    162\n",
       "12.58.54.120    160\n",
       "dtype: int64"
      ]
     },
     "execution_count": 53,
     "metadata": {},
     "output_type": "execute_result"
    }
   ],
   "source": [
    "print('Unique dsts')\n",
    "int_df\\\n",
    "  .drop_duplicates(['src', 'dst'])\\\n",
    "  .groupby('src').size()\\\n",
    "  .sort_values(ascending=False).head()"
   ]
  },
  {
   "cell_type": "code",
   "execution_count": 60,
   "metadata": {},
   "outputs": [
    {
     "name": "stdout",
     "output_type": "stream",
     "text": [
      "Predicted IP & Ports\n"
     ]
    },
    {
     "data": {
      "text/plain": [
       "src\n",
       "13.45.121.86     45\n",
       "13.43.22.89      45\n",
       "13.52.123.119    45\n",
       "14.39.53.59      45\n",
       "14.46.111.115    45\n",
       "dtype: int64"
      ]
     },
     "execution_count": 60,
     "metadata": {},
     "output_type": "execute_result"
    }
   ],
   "source": [
    "print('Predicted IP & Ports')\n",
    "int_df\\\n",
    "  .drop_duplicates(['src', 'port'])\\\n",
    "  .groupby('src').size()\\\n",
    "  .sort_values(ascending=False).head()"
   ]
  },
  {
   "cell_type": "code",
   "execution_count": null,
   "metadata": {},
   "outputs": [],
   "source": []
  }
 ],
 "metadata": {
  "kernelspec": {
   "display_name": "Python 3",
   "language": "python",
   "name": "python3"
  },
  "language_info": {
   "codemirror_mode": {
    "name": "ipython",
    "version": 3
   },
   "file_extension": ".py",
   "mimetype": "text/x-python",
   "name": "python",
   "nbconvert_exporter": "python",
   "pygments_lexer": "ipython3",
   "version": "3.7.4"
  }
 },
 "nbformat": 4,
 "nbformat_minor": 1
}
